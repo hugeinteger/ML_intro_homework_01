{
 "cells": [
  {
   "cell_type": "code",
   "execution_count": 1,
   "metadata": {},
   "outputs": [],
   "source": [
    "import pickle as cp\n",
    "import numpy as np\n",
    "import matplotlib.pyplot as plt\n",
    "\n",
    "# load data for white wine\n",
    "X, y = cp.load(open('winequality-white.pickle', 'rb'), encoding = 'latin1')\n"
   ]
  },
  {
   "cell_type": "code",
   "execution_count": 2,
   "metadata": {},
   "outputs": [],
   "source": [
    "# separate train and test data (80% vs 20%)\n",
    "# The y-values are integers between 3 and 9 indicating the quality of the wine\n",
    "N, D = X.shape\n",
    "\n",
    "N_train = int(0.8 * N)\n",
    "N_test = N - N_train\n",
    "\n",
    "X_train = X[:N_train]\n",
    "y_train = y[:N_train]\n",
    "\n",
    "X_test = X[N_train:]\n",
    "y_test = y[N_train:]\n"
   ]
  },
  {
   "cell_type": "code",
   "execution_count": 3,
   "metadata": {},
   "outputs": [
    {
     "name": "stdout",
     "output_type": "stream",
     "text": [
      "[3. 4. 5. 6. 7. 8. 9.]\n",
      "[  14  129 1164 1772  692  144    3]\n"
     ]
    },
    {
     "data": {
      "image/png": "[encoded data removed]",
      "text/plain": [
       "<matplotlib.figure.Figure at 0x8ee3160>"
      ]
     },
     "metadata": {},
     "output_type": "display_data"
    }
   ],
   "source": [
    "# Handin 1\n",
    "# Make a bar chart showing the distribution of y-values in the training set\n",
    "# find y possible values\n",
    "unique, counts = np.unique(y_train, return_counts=True)\n",
    "print(unique)\n",
    "print(counts)\n",
    "\n",
    "plt.bar(unique, counts, align='center')\n",
    "\n",
    "plt.ylabel('Frequency')\n",
    "plt.xlabel('y')\n",
    "plt.title('Distribution of y')\n",
    "\n",
    "plt.show()"
   ]
  },
  {
   "cell_type": "code",
   "execution_count": 4,
   "metadata": {},
   "outputs": [
    {
     "name": "stdout",
     "output_type": "stream",
     "text": [
      "Mean Squared Error on Training Data: 0.776777\n",
      "Mean Squared Error on Test Data: 0.813857\n"
     ]
    }
   ],
   "source": [
    "# Handin 2\n",
    "# Report  the  mean  squared  error,  i.e.,  the  average  of  the  squared  residuals,\n",
    "# using  this simplest  of  predictors  on  the  training  and  test  data.\n",
    "\n",
    "# Define a function returning the Mean Squared Error\n",
    "def MSE(y_actual, y_predict):\n",
    "    return np.mean((y_predict - y_actual)**2)\n",
    "\n",
    "y_prediction = np.mean(y_train)\n",
    "# print(\"y_train_mean = %.3f\" % y_prediction)\n",
    "\n",
    "mse_train = MSE(y_train, y_prediction)\n",
    "mse_test = MSE(y_test, y_prediction)\n",
    "print(\"Mean Squared Error on Training Data: %f\" %mse_train)\n",
    "print(\"Mean Squared Error on Test Data: %f\" %mse_test)\n",
    "\n",
    "# from sklearn.metrics import mean_squared_error\n",
    "# y_pred = np.full((1, len(y_test)), y_prediction)\n",
    "# print(\"Mean Squared Error on Test Data: %f\" %mean_squared_error(y_test, y_pred[0, :]))\n"
   ]
  },
  {
   "cell_type": "code",
   "execution_count": 5,
   "metadata": {},
   "outputs": [
    {
     "name": "stdout",
     "output_type": "stream",
     "text": [
      "Mean Squared Error on Train Data: 0.564000\n",
      "Mean Squared Error on Test Data: 0.560729\n"
     ]
    }
   ],
   "source": [
    "# Handin 3\n",
    "# Report the mean squared error using the linear model on the training and test data\n",
    "from sklearn.metrics import mean_squared_error\n",
    "\n",
    "def normalize(train_data: np.ndarray,\n",
    "              test_data: np.array) -> tuple:\n",
    "    norm_train_data = np.ones((N_train, D + 1))\n",
    "    norm_test_data = np.ones((N_test, D + 1))\n",
    "    for j in range(D) :\n",
    "        avg = np.mean(train_data[:, j])\n",
    "        std = np.std(train_data[:, j])\n",
    "        norm_train_data[:, j + 1] = (train_data[:, j] - avg) / std\n",
    "        norm_test_data[:, j + 1] = (test_data[:, j] - avg) / std\n",
    "    \n",
    "    return norm_train_data, norm_test_data\n",
    "        \n",
    "\n",
    "def calculate_weights(train_data: np.ndarray,\n",
    "                      train_out: np.ndarray) -> np.ndarray:\n",
    "    train_data_transposed = train_data.T\n",
    "    return (np.linalg.inv(train_data_transposed.dot(train_data))).dot(train_data_transposed).dot(train_out) \n",
    "\n",
    "def predict(data_vector: np.ndarray,\n",
    "            w: np.ndarray) -> np.ndarray:\n",
    "    return data_vector.dot(w)\n",
    "\n",
    "X_train_norm, X_test_norm = normalize(X_train, X_test)\n",
    "\n",
    "w = calculate_weights(X_train_norm, y_train)\n",
    "\n",
    "y_pred_train = predict(X_train_norm, w)\n",
    "y_pred_test = predict(X_test_norm, w)\n",
    "\n",
    "print(\"Mean Squared Error on Train Data: %f\" %mean_squared_error(y_train, y_pred_train))\n",
    "print(\"Mean Squared Error on Test Data: %f\" %mean_squared_error(y_test, y_pred_test))\n"
   ]
  },
  {
   "cell_type": "code",
   "execution_count": 6,
   "metadata": {},
   "outputs": [
    {
     "data": {
      "image/png": "[encoded data removed]",
      "text/plain": [
       "<matplotlib.figure.Figure at 0x9304be0>"
      ]
     },
     "metadata": {},
     "output_type": "display_data"
    }
   ],
   "source": [
    "# Handin 4\n",
    "# Report the learning curves plot\n",
    "# Plot the training error and test error as a function of the size of the dataset used for training\n",
    "dataset_sizes = []\n",
    "train_errs = []\n",
    "test_errs = []\n",
    "\n",
    "i = 20\n",
    "while i <= 600 :\n",
    "    X_train_new = X_train_norm[:i]\n",
    "    y_train_new = y_train[:i]\n",
    "    \n",
    "    w = calculate_weights(X_train_new, y_train_new)\n",
    "    \n",
    "    y_pred_train = predict(X_train_new, w)\n",
    "    y_pred_test = predict(X_test_norm, w)\n",
    "    \n",
    "    train_errs.append(MSE(y_train_new, y_pred_train))\n",
    "    test_errs.append(MSE(y_test, y_pred_test))\n",
    "    \n",
    "    dataset_sizes.append(i)\n",
    "    \n",
    "    i += 20\n",
    "\n",
    "\n",
    "plt.plot(dataset_sizes, train_errs, label = \"Train Error\") \n",
    "plt.plot(dataset_sizes, test_errs, label = \"Test Error\")\n",
    "\n",
    "plt.legend(loc=1)\n",
    "\n",
    "plt.xlabel('Size of Data Used')\n",
    "plt.ylabel('Error')\n",
    "\n",
    "plt.show()\n"
   ]
  },
  {
   "cell_type": "code",
   "execution_count": 12,
   "metadata": {
    "scrolled": true
   },
   "outputs": [
    {
     "name": "stdout",
     "output_type": "stream",
     "text": [
      "Optimal HyperParameters for Ridge Regression:\n",
      "Polynomial degree: 4 Lambda: 10.000000\n",
      "Mean Squared Error on Train Data: 0.447976\n",
      "Mean Squared Error on Validation Data: 0.495299\n",
      "\n",
      "Mean Squared Error on Train Data: 0.450439\n",
      "Mean Squared Error on Test Data: 0.586035\n"
     ]
    }
   ],
   "source": [
    "# Polynomial Basis Expansion with Ridge and Lasso\n",
    "from sklearn.linear_model import Ridge\n",
    "from sklearn.preprocessing import PolynomialFeatures\n",
    "from sklearn.pipeline import make_pipeline\n",
    "from sklearn.preprocessing import StandardScaler\n",
    "from sklearn.pipeline import Pipeline\n",
    "\n",
    "N_train, D = X_train.shape\n",
    "\n",
    "N_train_new = int(0.8 * N_train)\n",
    "N_validation = N_train - N_train_new\n",
    "\n",
    "X_train_new = X_train[:N_train_new]\n",
    "y_train_new = y_train[:N_train_new]\n",
    "\n",
    "X_validation = X_train[N_train_new:N_train]\n",
    "y_validation = y_train[N_train_new:N_train]\n",
    "\n",
    "\n",
    "lambdas = [0, 1e-5, 1e-4, 1e-3, 1e-2, 1e-1, 1, 10, 1e+2, 1e+3, 1e+4, 1e+5]\n",
    "degrees = [1, 2, 3, 4]\n",
    "\n",
    "d_optimal = degrees[0]\n",
    "lambda_optimal = lambdas[0]\n",
    "mse_optimal = 10\n",
    "mse_train_optimal = 0\n",
    "\n",
    "# find Ridge parameters\n",
    "for d in degrees :\n",
    "    for lam in lambdas :\n",
    "        # ridge = make_pipeline(PolynomialFeatures(d), Ridge(alpha = lam))\n",
    "        ridge = Pipeline([('poly', PolynomialFeatures(d)), ('scale', StandardScaler()), \n",
    "                          ('ridge', Ridge(alpha = lam, fit_intercept = True))])\n",
    "        ridge.fit(X_train_new, y_train_new)\n",
    "        mse_train = mean_squared_error(ridge.predict(X_train_new), y_train_new)\n",
    "        mse_valid = mean_squared_error(ridge.predict(X_validation), y_validation)\n",
    "        if mse_valid < mse_optimal :\n",
    "            mse_optimal = mse_valid\n",
    "            mse_train_optimal = mse_train\n",
    "            d_optimal = d\n",
    "            lambda_optimal = lam\n",
    "\n",
    "print(\"Optimal HyperParameters for Ridge Regression:\")\n",
    "print(\"Polynomial degree: %d Lambda: %f\" % (d_optimal, lambda_optimal))\n",
    "print(\"Mean Squared Error on Train Data: %f\" %mse_train_optimal)\n",
    "print(\"Mean Squared Error on Validation Data: %f\\n\" %mse_optimal)\n",
    "\n",
    "# run model on full train/test data\n",
    "ridge = Pipeline([('poly', PolynomialFeatures(d_optimal)), ('scale', StandardScaler()), \n",
    "                  ('ridge', Ridge(alpha = lambda_optimal, fit_intercept = True))])\n",
    "ridge.fit(X_train, y_train)\n",
    "print(\"Mean Squared Error on Train Data: %f\" %mean_squared_error(ridge.predict(X_train), y_train))\n",
    "print(\"Mean Squared Error on Test Data: %f\" %mean_squared_error(ridge.predict(X_test), y_test))\n",
    "\n",
    "# with our previous impl - deg = 1\n",
    "#Mean Squared Error on Train Data: 0.571561\n",
    "#Mean Squared Error on Test Data: 0.567391\n"
   ]
  },
  {
   "cell_type": "code",
   "execution_count": 14,
   "metadata": {},
   "outputs": [
    {
     "name": "stdout",
     "output_type": "stream",
     "text": [
      "Optimal HyperParameters for Lasso Regression:\n",
      "Polynomial degree: 4 Lambda: 0.001000\n",
      "Mean Squared Error on Train Data: 0.473102\n",
      "Mean Squared Error on Validation Data: 0.500467\n",
      "\n",
      "Mean Squared Error on Train Data: 0.476254\n",
      "Mean Squared Error on Test Data: 0.533768\n"
     ]
    }
   ],
   "source": [
    "from sklearn.linear_model import Lasso\n",
    "import warnings\n",
    "warnings.filterwarnings(\"ignore\", category=Warning)\n",
    "\n",
    "d_optimal = degrees[0]\n",
    "lambda_optimal = lambdas[0]\n",
    "mse_optimal = 10\n",
    "mse_train_optimal = 0\n",
    "\n",
    "# find Ridge parameters\n",
    "for d in degrees :\n",
    "    for lam in lambdas :\n",
    "        # ridge = make_pipeline(PolynomialFeatures(d), Ridge(alpha = lam))\n",
    "        lasso = Pipeline([('poly', PolynomialFeatures(d)), ('scale', StandardScaler()), \n",
    "                          ('ridge', Lasso(alpha = lam, fit_intercept = True))])\n",
    "        lasso.fit(X_train_new, y_train_new)\n",
    "        mse_train = mean_squared_error(lasso.predict(X_train_new), y_train_new)\n",
    "        mse_valid = mean_squared_error(lasso.predict(X_validation), y_validation)\n",
    "        if mse_valid < mse_optimal :\n",
    "            mse_optimal = mse_valid\n",
    "            mse_train_optimal = mse_train\n",
    "            d_optimal = d\n",
    "            lambda_optimal = lam\n",
    "\n",
    "print(\"Optimal HyperParameters for Lasso Regression:\")\n",
    "print(\"Polynomial degree: %d Lambda: %f\" % (d_optimal, lambda_optimal))\n",
    "print(\"Mean Squared Error on Train Data: %f\" %mse_train_optimal)\n",
    "print(\"Mean Squared Error on Validation Data: %f\\n\" %mse_optimal)\n",
    "\n",
    "# run model on full train/test data\n",
    "lasso = Pipeline([('poly', PolynomialFeatures(d_optimal)), ('scale', StandardScaler()), \n",
    "                  ('ridge', Lasso(alpha = lambda_optimal, fit_intercept = True))])\n",
    "lasso.fit(X_train, y_train)\n",
    "print(\"Mean Squared Error on Train Data: %f\" %mean_squared_error(lasso.predict(X_train), y_train))\n",
    "print(\"Mean Squared Error on Test Data: %f\" %mean_squared_error(lasso.predict(X_test), y_test))\n",
    "\n",
    "# with our previous impl - deg = 1\n",
    "#Mean Squared Error on Train Data: 0.571561\n",
    "#Mean Squared Error on Test Data: 0.567391\n",
    "\n"
   ]
  },
  {
   "cell_type": "code",
   "execution_count": null,
   "metadata": {},
   "outputs": [],
   "source": []
  }
 ],
 "metadata": {
  "kernelspec": {
   "display_name": "Python 3",
   "language": "python",
   "name": "python3"
  },
  "language_info": {
   "codemirror_mode": {
    "name": "ipython",
    "version": 3
   },
   "file_extension": ".py",
   "mimetype": "text/x-python",
   "name": "python",
   "nbconvert_exporter": "python",
   "pygments_lexer": "ipython3",
   "version": "3.6.4"
  }
 },
 "nbformat": 4,
 "nbformat_minor": 2
}
