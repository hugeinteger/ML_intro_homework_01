{
 "cells": [
  {
   "cell_type": "code",
   "execution_count": 95,
   "metadata": {},
   "outputs": [],
   "source": [
    "import pickle as cp\n",
    "import numpy as np\n",
    "\n",
    "# load data for white wine\n",
    "X, y = cp.load(open('winequality-white.pickle', 'rb'), encoding = 'latin1')"
   ]
  },
  {
   "cell_type": "code",
   "execution_count": 96,
   "metadata": {},
   "outputs": [],
   "source": [
    "# separate train and test data (80% vs 20%)\n",
    "# The y-values are integers between 3 and 9 indicating the quality of the wine\n",
    "N, D = X.shape\n",
    "\n",
    "N_train = int(0.8 * N)\n",
    "N_test = N - N_train\n",
    "\n",
    "X_train = X[:N_train]\n",
    "y_train = y[:N_train]\n",
    "\n",
    "X_test = X[N_test:]\n",
    "y_test = y[N_test:]\n"
   ]
  },
  {
   "cell_type": "code",
   "execution_count": 97,
   "metadata": {},
   "outputs": [
    {
     "data": {
      "image/png": "[encoded data removed]",
      "text/plain": [
       "<matplotlib.figure.Figure at 0xc12ac50>"
      ]
     },
     "metadata": {},
     "output_type": "display_data"
    }
   ],
   "source": [
    "# Handin 1\n",
    "# Make a bar chart showing the distribution of y-values in the training set\n",
    "import matplotlib.pyplot as plt\n",
    "\n",
    "y_pos = np.arange(len(X_train))\n",
    "plt.bar(y_pos, y_train, align='center', alpha=0.5)\n",
    "plt.ylabel('Quality')\n",
    "plt.title('Wine Quality Distribution')\n",
    "\n",
    "plt.show()"
   ]
  },
  {
   "cell_type": "code",
   "execution_count": 98,
   "metadata": {},
   "outputs": [
    {
     "name": "stdout",
     "output_type": "stream",
     "text": [
      "Mean Squared Error on Training Data: 0.776777\n",
      "Mean Squared Error on Test Data: 0.786778\n"
     ]
    }
   ],
   "source": [
    "# Handin 2\n",
    "# Report  the  mean  squared  error,  i.e.,  the  average  of  the  squared  residuals,\n",
    "# using  this simplest  of  predictors  on  the  training  and  test  data.\n",
    "y_prediction = np.average(y_train)\n",
    "mse_train = np.average((y_prediction - y_train) ** 2)\n",
    "mse_test = np.average((y_prediction - y_test) ** 2)\n",
    "print(\"Mean Squared Error on Training Data: %f\" %mse_train)\n",
    "print(\"Mean Squared Error on Test Data: %f\" %mse_test)\n",
    "\n",
    "# from sklearn.metrics import mean_squared_error\n",
    "# y_pred = np.full((1, len(y_test)), y_prediction)\n",
    "# print(\"Mean Squared Error on Test Data: %f\" %mean_squared_error(y_test, y_pred[0, :]))\n"
   ]
  },
  {
   "cell_type": "code",
   "execution_count": 130,
   "metadata": {},
   "outputs": [
    {
     "name": "stdout",
     "output_type": "stream",
     "text": [
      "Mean Squared Error on Train Data: 0.571561\n",
      "Mean Squared Error on Test Data: 0.567391\n"
     ]
    }
   ],
   "source": [
    "# Handin 3\n",
    "# Report the mean squared error using the linear model on the training and test data\n",
    "from sklearn.metrics import mean_squared_error\n",
    "\n",
    "def normalize(data_vector: np.ndarray,\n",
    "              mean: float, std: float) -> np.ndarray:\n",
    "    return (data_vector - mean) / std\n",
    "\n",
    "def calculate_weights(train_data: np.ndarray,\n",
    "                      train_out: np.ndarray) -> np.ndarray:\n",
    "    train_data_transposed = train_data.T\n",
    "    return (np.linalg.inv(train_data_transposed.dot(train_data))).dot(train_data_transposed).dot(train_out) \n",
    "\n",
    "def predict(data_vector: np.ndarray,\n",
    "            w: np.ndarray) -> np.ndarray:\n",
    "    return data_vector.dot(w)\n",
    "\n",
    "x_train_mean = np.mean(X_train)\n",
    "x_train_std = np.std(X_train)\n",
    "\n",
    "X_train_norm = normalize(X_train, x_train_mean, x_train_std)\n",
    "\n",
    "X_test_norm = normalize(X_test, x_train_mean, x_train_std)\n",
    "\n",
    "w = calculate_weights(X_train_norm, y_train)\n",
    "\n",
    "y_pred_train = predict(X_train_norm, w)\n",
    "y_pred_test = predict(X_test_norm, w)\n",
    "\n",
    "print(\"Mean Squared Error on Train Data: %f\" %mean_squared_error(y_train, y_pred_train))\n",
    "print(\"Mean Squared Error on Test Data: %f\" %mean_squared_error(y_test, y_pred_test))\n"
   ]
  },
  {
   "cell_type": "code",
   "execution_count": 132,
   "metadata": {},
   "outputs": [
    {
     "data": {
      "image/png": "[encoded data removed]",
      "text/plain": [
       "<matplotlib.figure.Figure at 0xdff4d30>"
      ]
     },
     "metadata": {},
     "output_type": "display_data"
    }
   ],
   "source": [
    "# Handin 4\n",
    "# Report the learning curves plot\n",
    "# Plot the training error and test error as a function of the size of the dataset used for training\n",
    "dataset_sizes = []\n",
    "train_errs = []\n",
    "test_errs = []\n",
    "\n",
    "i = 20\n",
    "while i <= 600 :\n",
    "    X_train_new = X_train[:i]\n",
    "    y_train_new = y_train[:i]\n",
    "    w = calculate_weights(X_train_new, y_train_new)\n",
    "    y_pred_train = predict(X_train_new, w)\n",
    "    y_pred_test = predict(X_test, w)\n",
    "    train_errs.append(mean_squared_error(y_train_new, y_pred_train))\n",
    "    test_errs.append(mean_squared_error(y_test, y_pred_test))\n",
    "    dataset_sizes.append(i)\n",
    "    i += 20\n",
    "\n",
    "plt.plot(dataset_sizes, train_errs, label = \"Train Error\") \n",
    "plt.plot(dataset_sizes, test_errs, label = \"Test Error\")\n",
    "\n",
    "plt.legend(loc=1)\n",
    "\n",
    "plt.xlabel('Size of Data Used')\n",
    "plt.ylabel('Error')\n",
    "\n",
    "plt.show()"
   ]
  },
  {
   "cell_type": "code",
   "execution_count": 170,
   "metadata": {
    "scrolled": true
   },
   "outputs": [
    {
     "name": "stdout",
     "output_type": "stream",
     "text": [
      "Optimal HyperParameters for Ridge Regression:\n",
      "Polynomial degree: 4 Lambda: 100.000000\n",
      "Mean Squared Error on Train Data: 0.290410\n",
      "Mean Squared Error on Validation Data: 0.395575\n",
      "\n",
      "Mean Squared Error on Train Data: 0.591333\n",
      "Mean Squared Error on Test Data: 0.611051\n"
     ]
    }
   ],
   "source": [
    "# Polynomial Basis Expansion with Ridge and Lasso\n",
    "from sklearn.linear_model import Ridge\n",
    "from sklearn.preprocessing import PolynomialFeatures\n",
    "from sklearn.pipeline import make_pipeline\n",
    "from sklearn.preprocessing import StandardScaler\n",
    "\n",
    "scaler = StandardScaler()\n",
    "scaler.fit(X_train)\n",
    "X_train_normalized = scaler.transform(X_train)\n",
    "\n",
    "N_train, D = X_train.shape\n",
    "\n",
    "N_train_new = int(0.8 * N_train)\n",
    "N_validation = N_train - N_train_new\n",
    "\n",
    "X_train_new = X_train_normalized[:N_train_new]\n",
    "y_train_new = y_train[:N_train_new]\n",
    "\n",
    "X_validation = X_train_normalized[N_validation:]\n",
    "y_validation = y_train[N_validation:]\n",
    "\n",
    "x_train_mean = np.mean(X_train_new)\n",
    "x_train_std = np.std(X_train_new)\n",
    "\n",
    "X_train_new_norm = normalize(X_train_new, x_train_mean, x_train_std)\n",
    "X_validation_norm = normalize(X_validation, x_train_mean, x_train_std)\n",
    "\n",
    "lambdas = [0, 1e-5, 1e-4, 1e-3, 1e-2, 1e-1, 1, 10, 1e+2, 1e+3, 1e+4, 1e+5]\n",
    "degrees = [1, 2, 3, 4]\n",
    "\n",
    "d_optimal = degrees[0]\n",
    "lambda_optimal = lambdas[0]\n",
    "mse_optimal = 10\n",
    "mse_train_optimal = 0\n",
    "\n",
    "# find Ridge parameters\n",
    "for d in degrees :\n",
    "    for lam in lambdas :\n",
    "        ridge = make_pipeline(PolynomialFeatures(d), Ridge(alpha = lam))\n",
    "        ridge.fit(X_train_new_norm, y_train_new)\n",
    "        mse_train = mean_squared_error(ridge.predict(X_train_new_norm), y_train_new)\n",
    "        mse_valid = mean_squared_error(ridge.predict(X_validation), y_validation)\n",
    "        if mse_valid < mse_optimal :\n",
    "            mse_optimal = mse_valid\n",
    "            mse_train_optimal = mse_train\n",
    "            d_optimal = d\n",
    "            lambda_optimal = lam\n",
    "\n",
    "print(\"Optimal HyperParameters for Ridge Regression:\")\n",
    "print(\"Polynomial degree: %d Lambda: %f\" % (d_optimal, lambda_optimal))\n",
    "print(\"Mean Squared Error on Train Data: %f\" %mse_train_optimal)\n",
    "print(\"Mean Squared Error on Validation Data: %f\\n\" %mse_optimal)\n",
    "\n",
    "# run model on full train/test data\n",
    "ridge = make_pipeline(PolynomialFeatures(d_optimal), Ridge(alpha = lambda_optimal))\n",
    "ridge.fit(X_train_norm, y_train)\n",
    "print(\"Mean Squared Error on Train Data: %f\" %mean_squared_error(ridge.predict(X_train_norm), y_train))\n",
    "print(\"Mean Squared Error on Test Data: %f\" %mean_squared_error(ridge.predict(X_test_norm), y_test))\n",
    "\n",
    "# with our previous impl - deg = 1\n",
    "#Mean Squared Error on Train Data: 0.571561\n",
    "#Mean Squared Error on Test Data: 0.567391\n",
    "\n",
    "# ?? with the Ridge model - deg = 1, lambda = 0\n",
    "#Mean Squared Error on Train Data: 0.564000\n",
    "#Mean Squared Error on Test Data: 0.557909\n"
   ]
  },
  {
   "cell_type": "code",
   "execution_count": 169,
   "metadata": {},
   "outputs": [
    {
     "name": "stderr",
     "output_type": "stream",
     "text": [
      "C:\\Users\\hmelkony\\AppData\\Local\\Continuum\\anaconda3\\lib\\site-packages\\sklearn\\linear_model\\coordinate_descent.py:491: ConvergenceWarning: Objective did not converge. You might want to increase the number of iterations. Fitting data with very small alpha may cause precision problems.\n",
      "  ConvergenceWarning)\n",
      "C:\\Users\\hmelkony\\AppData\\Local\\Continuum\\anaconda3\\lib\\site-packages\\sklearn\\linear_model\\coordinate_descent.py:491: ConvergenceWarning: Objective did not converge. You might want to increase the number of iterations. Fitting data with very small alpha may cause precision problems.\n",
      "  ConvergenceWarning)\n",
      "C:\\Users\\hmelkony\\AppData\\Local\\Continuum\\anaconda3\\lib\\site-packages\\sklearn\\linear_model\\coordinate_descent.py:491: ConvergenceWarning: Objective did not converge. You might want to increase the number of iterations. Fitting data with very small alpha may cause precision problems.\n",
      "  ConvergenceWarning)\n",
      "C:\\Users\\hmelkony\\AppData\\Local\\Continuum\\anaconda3\\lib\\site-packages\\sklearn\\linear_model\\coordinate_descent.py:491: ConvergenceWarning: Objective did not converge. You might want to increase the number of iterations. Fitting data with very small alpha may cause precision problems.\n",
      "  ConvergenceWarning)\n",
      "C:\\Users\\hmelkony\\AppData\\Local\\Continuum\\anaconda3\\lib\\site-packages\\sklearn\\linear_model\\coordinate_descent.py:491: ConvergenceWarning: Objective did not converge. You might want to increase the number of iterations. Fitting data with very small alpha may cause precision problems.\n",
      "  ConvergenceWarning)\n",
      "C:\\Users\\hmelkony\\AppData\\Local\\Continuum\\anaconda3\\lib\\site-packages\\sklearn\\linear_model\\coordinate_descent.py:491: ConvergenceWarning: Objective did not converge. You might want to increase the number of iterations. Fitting data with very small alpha may cause precision problems.\n",
      "  ConvergenceWarning)\n",
      "C:\\Users\\hmelkony\\AppData\\Local\\Continuum\\anaconda3\\lib\\site-packages\\sklearn\\linear_model\\coordinate_descent.py:491: ConvergenceWarning: Objective did not converge. You might want to increase the number of iterations. Fitting data with very small alpha may cause precision problems.\n",
      "  ConvergenceWarning)\n",
      "C:\\Users\\hmelkony\\AppData\\Local\\Continuum\\anaconda3\\lib\\site-packages\\sklearn\\linear_model\\coordinate_descent.py:491: ConvergenceWarning: Objective did not converge. You might want to increase the number of iterations. Fitting data with very small alpha may cause precision problems.\n",
      "  ConvergenceWarning)\n",
      "C:\\Users\\hmelkony\\AppData\\Local\\Continuum\\anaconda3\\lib\\site-packages\\sklearn\\linear_model\\coordinate_descent.py:491: ConvergenceWarning: Objective did not converge. You might want to increase the number of iterations. Fitting data with very small alpha may cause precision problems.\n",
      "  ConvergenceWarning)\n",
      "C:\\Users\\hmelkony\\AppData\\Local\\Continuum\\anaconda3\\lib\\site-packages\\sklearn\\linear_model\\coordinate_descent.py:491: ConvergenceWarning: Objective did not converge. You might want to increase the number of iterations. Fitting data with very small alpha may cause precision problems.\n",
      "  ConvergenceWarning)\n",
      "C:\\Users\\hmelkony\\AppData\\Local\\Continuum\\anaconda3\\lib\\site-packages\\sklearn\\linear_model\\coordinate_descent.py:491: ConvergenceWarning: Objective did not converge. You might want to increase the number of iterations. Fitting data with very small alpha may cause precision problems.\n",
      "  ConvergenceWarning)\n",
      "C:\\Users\\hmelkony\\AppData\\Local\\Continuum\\anaconda3\\lib\\site-packages\\sklearn\\linear_model\\coordinate_descent.py:491: ConvergenceWarning: Objective did not converge. You might want to increase the number of iterations. Fitting data with very small alpha may cause precision problems.\n",
      "  ConvergenceWarning)\n"
     ]
    },
    {
     "name": "stdout",
     "output_type": "stream",
     "text": [
      "Optimal HyperParameters for Ridge Regression:\n",
      "Polynomial degree: 4 Lambda: 0.001000\n",
      "Mean Squared Error on Train Data: 0.293617\n",
      "Mean Squared Error on Validation Data Data: 0.400489\n",
      "\n"
     ]
    },
    {
     "name": "stderr",
     "output_type": "stream",
     "text": [
      "C:\\Users\\hmelkony\\AppData\\Local\\Continuum\\anaconda3\\lib\\site-packages\\sklearn\\linear_model\\coordinate_descent.py:491: ConvergenceWarning: Objective did not converge. You might want to increase the number of iterations. Fitting data with very small alpha may cause precision problems.\n",
      "  ConvergenceWarning)\n"
     ]
    },
    {
     "name": "stdout",
     "output_type": "stream",
     "text": [
      "Mean Squared Error on Train Data: 0.591333\n",
      "Mean Squared Error on Test Data: 0.611051\n"
     ]
    }
   ],
   "source": [
    "from sklearn.linear_model import Lasso\n",
    "\n",
    "lambdas = [1e-5, 1e-4, 1e-3, 1e-2, 1e-1, 1, 10, 1e+2, 1e+3, 1e+4, 1e+5]\n",
    "degrees = [1, 2, 3, 4]\n",
    "\n",
    "d_optimal = degrees[0]\n",
    "lambda_optimal = lambdas[0]\n",
    "mse_optimal = 10\n",
    "\n",
    "# find Lasso parameters\n",
    "for d in degrees :\n",
    "    for lam in lambdas :\n",
    "        lasso = make_pipeline(PolynomialFeatures(d), Lasso(alpha = lam))\n",
    "        lasso.fit(X_train_new_norm, y_train_new)\n",
    "        mse_train = mean_squared_error(lasso.predict(X_train_new_norm), y_train_new)\n",
    "        mse_valid = mean_squared_error(lasso.predict(X_validation), y_validation)\n",
    "        #print(\"lambda %f mse_train %f mse_valid %f\" %(lam, mse_train, mse_valid))\n",
    "        if mse_valid < mse_optimal :\n",
    "            mse_optimal = mse_valid\n",
    "            mse_train_optimal = mse_train\n",
    "            d_optimal = d\n",
    "            lambda_optimal = lam\n",
    "\n",
    "print(\"Optimal HyperParameters for Ridge Regression:\")\n",
    "print(\"Polynomial degree: %d Lambda: %f\" % (d_optimal, lambda_optimal))\n",
    "print(\"Mean Squared Error on Train Data: %f\" %mse_train_optimal)\n",
    "print(\"Mean Squared Error on Validation Data: %f\\n\" %mse_optimal)\n",
    "\n",
    "# run model on full train/test data\n",
    "lasso = make_pipeline(PolynomialFeatures(d_optimal), Lasso(alpha = lambda_optimal))\n",
    "lasso.fit(X_train_norm, y_train)\n",
    "print(\"Mean Squared Error on Train Data: %f\" %mean_squared_error(ridge.predict(X_train_norm), y_train))\n",
    "print(\"Mean Squared Error on Test Data: %f\" %mean_squared_error(ridge.predict(X_test_norm), y_test))\n",
    "\n",
    "# with our previous impl - deg = 1\n",
    "#Mean Squared Error on Train Data: 0.571561\n",
    "#Mean Squared Error on Test Data: 0.567391\n",
    "\n",
    "# with the Ridge model - deg = 1, lambda = 0\n",
    "#Mean Squared Error on Train Data: 0.564000\n",
    "#Mean Squared Error on Test Data: 0.557909\n"
   ]
  },
  {
   "cell_type": "code",
   "execution_count": null,
   "metadata": {},
   "outputs": [],
   "source": []
  }
 ],
 "metadata": {
  "kernelspec": {
   "display_name": "Python 3",
   "language": "python",
   "name": "python3"
  },
  "language_info": {
   "codemirror_mode": {
    "name": "ipython",
    "version": 3
   },
   "file_extension": ".py",
   "mimetype": "text/x-python",
   "name": "python",
   "nbconvert_exporter": "python",
   "pygments_lexer": "ipython3",
   "version": "3.6.4"
  }
 },
 "nbformat": 4,
 "nbformat_minor": 2
}
